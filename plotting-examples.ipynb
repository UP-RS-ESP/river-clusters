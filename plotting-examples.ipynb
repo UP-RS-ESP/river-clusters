{
 "cells": [
  {
   "cell_type": "markdown",
   "metadata": {},
   "source": [
    "# Plotting using LSDMappingTools\n"
   ]
  },
  {
   "cell_type": "markdown",
   "metadata": {},
   "source": [
    "In this tutorial we'll make some plots of the data generated using LSDTopoTools.  We'll firstly make a hillshade plot with overlaid channel networks, then some plots of the channel steepness analysis."
   ]
  },
  {
   "cell_type": "markdown",
   "metadata": {},
   "source": [
    "Firstly, import the required packages:"
   ]
  },
  {
   "cell_type": "code",
   "execution_count": null,
   "metadata": {},
   "outputs": [],
   "source": [
    "import pandas as pd\n",
    "import matplotlib.pyplot as plt\n",
    "from matplotlib import rcParams\n",
    "import matplotlib.cm as cm\n",
    "rcParams['font.size'] = 14\n",
    "\n",
    "# Now import some LSDMappingTools functions. This is some code that we generated \n",
    "# to do various raster plotting and analyses\n",
    "import LSDPlottingTools.LSDMap_PointTools as LSDMap_PD\n",
    "from LSDMapFigure.PlottingRaster import MapFigure"
   ]
  },
  {
   "cell_type": "markdown",
   "metadata": {},
   "source": [
    "We're going to work with the data from the Pozo catchment, Santa Cruz Island. We need to define the name of the base raster (the DTM) and the hillshade:"
   ]
  },
  {
   "cell_type": "code",
   "execution_count": null,
   "metadata": {},
   "outputs": [],
   "source": [
    "# Get the filenames\n",
    "DataDirectory = '/home/fiona/PC_workshop/Pozo_test/'\n",
    "BaseFile = 'Pozo_DTM'\n",
    "RasterName = BaseFile+'.bil'\n",
    "HSName = BaseFile+'_hs.bil'"
   ]
  },
  {
   "cell_type": "markdown",
   "metadata": {},
   "source": [
    "## Plotting channel networks"
   ]
  },
  {
   "cell_type": "markdown",
   "metadata": {},
   "source": [
    "We generated several CSV files during the previous stage of the workshop which have channel networks extracted through different methods. We can use the code below to plot these on top of the hillshade."
   ]
  },
  {
   "cell_type": "markdown",
   "metadata": {},
   "source": [
    "Select the channel network you want to plot. Simply change the extension depending on the channel extraction method: `_W_CN.csv` for the Wiener method, `_AT_CN.csv` for area threshold channels, `_D_CN.csv` for the integral method:"
   ]
  },
  {
   "cell_type": "code",
   "execution_count": null,
   "metadata": {},
   "outputs": [],
   "source": [
    "ChannelName = BaseFile+'_W_CN.csv'"
   ]
  },
  {
   "cell_type": "code",
   "execution_count": null,
   "metadata": {},
   "outputs": [],
   "source": [
    "# Create a map figure using the hillshade as the base raster\n",
    "MF = MapFigure(HSName, DataDirectory,coord_type=\"UTM_km\", colourbar_location='bottom',basemap_colourmap = \"gray\")\n",
    "\n",
    "# Read in the channel network\n",
    "ChannelPoints = LSDMap_PD.LSDMap_PointData(DataDirectory+ChannelName)\n",
    "MF.add_point_data(ChannelPoints, scale_points = True,column_for_scaling = \"Stream Order\",\n",
    "                    scaled_data_in_log = False,\n",
    "                    max_point_size = 5, min_point_size = 1)"
   ]
  },
  {
   "cell_type": "code",
   "execution_count": null,
   "metadata": {},
   "outputs": [],
   "source": [
    "## Plotting slope and aspect"
   ]
  },
  {
   "cell_type": "markdown",
   "metadata": {},
   "source": [
    "We can also make some basic plots of slope and apsect across the catchment from rasters we produced using LSDTopoTools. Let's define some filenames for these rasters:"
   ]
  },
  {
   "cell_type": "code",
   "execution_count": null,
   "metadata": {},
   "outputs": [],
   "source": [
    "SlopeName = BaseFile+'_SLOPE.bil'\n",
    "AspectName = BaseFile+'_ASPECT.bil'"
   ]
  },
  {
   "cell_type": "code",
   "execution_count": null,
   "metadata": {},
   "outputs": [],
   "source": [
    "# Make a map of the slope draped over the hillshade\n",
    "MF = MapFigure(HSName, DataDirectory,coord_type=\"UTM_km\",colourbar_location = 'None')\n",
    "MF.add_drape_image(SlopeName,DataDirectory,colourmap = \"RdBu_r\", alpha = 0.6, custom_min_max = [0,1])"
   ]
  },
  {
   "cell_type": "code",
   "execution_count": null,
   "metadata": {},
   "outputs": [],
   "source": [
    "# Make a map of the aspect draped over the hillshade\n",
    "MF = MapFigure(HSName, DataDirectory,coord_type=\"UTM_km\",colourbar_location = 'None')\n",
    "MF.add_drape_image(AspectName,DataDirectory,colourmap = \"viridis\", alpha = 0.6)"
   ]
  },
  {
   "cell_type": "markdown",
   "metadata": {},
   "source": [
    "## Plotting river profiles"
   ]
  },
  {
   "cell_type": "markdown",
   "metadata": {},
   "source": [
    "We also ran some analysis to calculate channel steepness using the chi method across the landscape.  We can plot this too. Firstly, let's use `pandas` to load in the chi data:"
   ]
  },
  {
   "cell_type": "code",
   "execution_count": null,
   "metadata": {},
   "outputs": [],
   "source": [
    "# get the dataframe with the chi data for the river channels\n",
    "df = pd.read_csv(DataDirectory+BaseFile+'_MChiSegmented.csv')"
   ]
  },
  {
   "cell_type": "code",
   "execution_count": null,
   "metadata": {
    "scrolled": true
   },
   "outputs": [],
   "source": [
    "# Take a look at the column headers\n",
    "print(df.columns)"
   ]
  },
  {
   "cell_type": "markdown",
   "metadata": {},
   "source": [
    "Let's make some plots of the river profiles in the catchment. Let's group the dataframe by `source_key` (there is a unique source for each river) and then plot the elevation vs. distance from outlet:"
   ]
  },
  {
   "cell_type": "code",
   "execution_count": null,
   "metadata": {},
   "outputs": [],
   "source": [
    "fig, ax = plt.subplots(figsize=(8,6))\n",
    "gr = df.groupby('source_key')\n",
    "gr.plot(x='flow_distance', y='elevation', ax=ax, legend=False)\n",
    "ax.set_xlabel('Distance from outlet (m)')\n",
    "ax.set_ylabel('Elevation (m)')"
   ]
  },
  {
   "cell_type": "markdown",
   "metadata": {},
   "source": [
    "We can also colour this by `m_chi`, which is representative of the channel steepness. You can find more information on how we calculate this channel steepness in [Mudd et al. 2014](https://agupubs.onlinelibrary.wiley.com/doi/full/10.1002/2013JF002981)."
   ]
  },
  {
   "cell_type": "code",
   "execution_count": null,
   "metadata": {},
   "outputs": [],
   "source": [
    "fig, ax = plt.subplots(figsize=(8,6))\n",
    "gr.plot(x='flow_distance', y='elevation', kind='scatter', s=1, c='m_chi', cmap=cm.viridis, ax=ax, legend=False, colorbar=False)\n",
    "ax.set_xlabel('Distance from outlet (m)')\n",
    "ax.set_ylabel('Elevation (m)')"
   ]
  },
  {
   "cell_type": "markdown",
   "metadata": {},
   "source": [
    "If you like, you can also transform this into a chi-elevation plot by plotting `chi` on the X axis rather than `flow_distance`:"
   ]
  },
  {
   "cell_type": "code",
   "execution_count": null,
   "metadata": {},
   "outputs": [],
   "source": [
    "fig, ax = plt.subplots(figsize=(8,6))\n",
    "gr.plot(x='chi', y='elevation', kind='scatter', s=1, c='m_chi', cmap=cm.viridis, ax=ax, legend=False, colorbar=False)\n",
    "ax.set_xlabel('$\\chi$ (m)')\n",
    "ax.set_ylabel('Elevation (m)')"
   ]
  },
  {
   "cell_type": "code",
   "execution_count": null,
   "metadata": {},
   "outputs": [],
   "source": []
  }
 ],
 "metadata": {
  "kernelspec": {
   "display_name": "Python 3",
   "language": "python",
   "name": "python3"
  },
  "language_info": {
   "codemirror_mode": {
    "name": "ipython",
    "version": 3
   },
   "file_extension": ".py",
   "mimetype": "text/x-python",
   "name": "python",
   "nbconvert_exporter": "python",
   "pygments_lexer": "ipython3",
   "version": "3.7.3"
  }
 },
 "nbformat": 4,
 "nbformat_minor": 2
}
